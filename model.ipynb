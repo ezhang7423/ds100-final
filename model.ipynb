{
 "cells": [
  {
   "cell_type": "code",
   "execution_count": 11,
   "metadata": {},
   "outputs": [],
   "source": [
    "import pandas as pd\n",
    "import glob\n",
    "\n",
    "\n",
    "def importAll(path):    \n",
    "    all_files = glob.glob(path + \"/*.csv\")\n",
    "    res = {}\n",
    "\n",
    "    for filename in all_files:\n",
    "        print('Importing:', filename)\n",
    "        df = pd.read_csv(filename, index_col=None, header=0)\n",
    "        res[filename] = df\n",
    "    return li"
   ]
  },
  {
   "cell_type": "code",
   "execution_count": 13,
   "metadata": {},
   "outputs": [],
   "source": [
    "ranked = importAll('3173')\n",
    "#ranked dataset:\n",
    "competitive = importAll('1076')\n",
    "#competitive dataset:"
   ]
  },
  {
   "cell_type": "code",
   "execution_count": 14,
   "metadata": {},
   "outputs": [
    {
     "output_type": "execute_result",
     "data": {
      "text/plain": "[          name   id\n 0          Jax   24\n 1         Sona   37\n 2     Tristana   18\n 3        Varus  110\n 4        Fiora  114\n ..         ...  ...\n 133       Shen   98\n 134  Jarvan IV   59\n 135   Malzahar   90\n 136        Zac  154\n 137     Gragas   79\n \n [138 rows x 2 columns],\n             id      gameid platformid  queueid  seasonid  duration  \\\n 0           10  3187427022       EUW1      420         8      1909   \n 1           11  3187425281       EUW1      420         8      1693   \n 2           12  3187269801       EUW1      420         8      1482   \n 3           13  3187252065       EUW1      420         8      1954   \n 4           14  3187201038       EUW1      420         8      2067   \n ...        ...         ...        ...      ...       ...       ...   \n 184064  187584  2032413933        NA1        4         6      1399   \n 184065  187585  2032380130        NA1        4         6      1172   \n 184066  187586  2032238096        NA1        4         6      2027   \n 184067  187587  1990558679        NA1        4         5      2761   \n 184068  187588  1990458004        NA1        4         5      2534   \n \n              creation        version  \n 0       1495068946860  7.10.187.9675  \n 1       1495066760778  7.10.187.9675  \n 2       1495053375889  7.10.187.9675  \n 3       1495050993613  7.10.187.9675  \n 4       1495047893400  7.10.187.9675  \n ...               ...            ...  \n 184064  1449629679777     5.23.0.250  \n 184065  1449627744183     5.23.0.250  \n 184066  1449625087744     5.23.0.250  \n 184067  1445812392811     5.20.0.291  \n 184068  1445809261607     5.20.0.291  \n \n [184069 rows x 8 columns],\n               id  matchid  player  championid  ss1  ss2         role position\n 0              9       10       1          19    4   11         NONE   JUNGLE\n 1             10       10       2         267    3    4  DUO_SUPPORT      BOT\n 2             11       10       3         119    7    4    DUO_CARRY      BOT\n 3             12       10       4         114   12    4         SOLO      TOP\n 4             13       10       5         112    4    3         SOLO      MID\n ...          ...      ...     ...         ...  ...  ...          ...      ...\n 1834515  1865600   187588       6         222    4    7    DUO_CARRY      BOT\n 1834516  1865601   187588       7           1   14    4         SOLO      MID\n 1834517  1865602   187588       8          53    4    3  DUO_SUPPORT      BOT\n 1834518  1865603   187588       9          92    4   11         NONE   JUNGLE\n 1834519  1865604   187588      10           2    4   12         SOLO      TOP\n \n [1834520 rows x 8 columns],\n              id  win  item1  item2  item3  item4  item5  item6  trinket  \\\n 0             9    0   3748   2003   3111   3053   1419   1042     3340   \n 1            10    0   2301   3111   3190   3107      0      0     3364   \n 2            11    0   1055   3072   3006   3031   3046   1036     3340   \n 3            12    0   1029   3078   3156   1001   3053      0     3340   \n 4            13    0   3020   1058   3198   3102   1052   1026     3340   \n ...         ...  ...    ...    ...    ...    ...    ...    ...      ...   \n 999994  1028377    1   1055   3142   3147      0      0   3006     3340   \n 999995  1028378    0   1055   3006   3085      0      0   1037     3340   \n 999996  1028379    0   3083   1001   1031   1028      0      0     3340   \n 999997  1028380    0   3144   3111   1419      0      0      0     3340   \n 999998  1028381    0   2301   3116   1001   2031   2055      0     3364   \n \n         kills  ...  neutralminionskilled  ownjunglekills  enemyjunglekills  \\\n 0           6  ...                    69              42                27   \n 1           0  ...                     1               1                 0   \n 2           7  ...                     3               1                 2   \n 3           5  ...                     6               6                 0   \n 4           2  ...                     4               3                 1   \n ...       ...  ...                   ...             ...               ...   \n 999994     10  ...                     6               0                 6   \n 999995      3  ...                     0               0                 0   \n 999996      0  ...                    11               2                 9   \n 999997      3  ...                    28              17                11   \n 999998      2  ...                     0               0                 0   \n \n         totcctimedealt  champlvl  pinksbought  wardsbought  wardsplaced  \\\n 0                  610        13            0            0           10   \n 1                  211        14            1            0           17   \n 2                  182        14            1            0           13   \n 3                  106        15            0            0            3   \n 4                  159        15            0            0           10   \n ...                ...       ...          ...          ...          ...   \n 999994             179        11            1            0            9   \n 999995              42        10            0            0            6   \n 999996             124        10            0            0            1   \n 999997             450        10            0            0            5   \n 999998              67         9            3            0           15   \n \n         wardskilled  firstblood  \n 0                 0           0  \n 1                 3           0  \n 2                 5           0  \n 3                 0           0  \n 4                 0           0  \n ...             ...         ...  \n 999994            0           1  \n 999995            0           0  \n 999996            0           0  \n 999997            1           0  \n 999998            2           0  \n \n [999999 rows x 56 columns],\n              id  win  item1  item2  item3  item4  item5  item6  trinket  \\\n 0       1028382    0   1056   3001   1052   3020   1058   1026     3340   \n 1       1028383    0   1041   2003      0      0      0      0     3340   \n 2       1028384    0   1036   2010      0      0      0      0     3340   \n 3       1028385    0   1055   2010      0      0      0      0     3340   \n 4       1028386    0   2033      0      0      0      0      0     3340   \n ...         ...  ...    ...    ...    ...    ...    ...    ...      ...   \n 834513  1865600    0   3035   1053   3031   1304   3102   3046     3363   \n 834514  1865601    0   3089   3285   3157   1314   1052      0     3340   \n 834515  1865602    0   1329   3190   3069   3025   1011   3082     3340   \n 834516  1865603    0   3074   3071   3707   1033   1036      0     3340   \n 834517  1865604    0   3155   3074   3153   3110   1319   1037     3340   \n \n         kills  ...  neutralminionskilled  ownjunglekills  enemyjunglekills  \\\n 0           7  ...                     0               0                 0   \n 1           0  ...                    11              11                 0   \n 2           0  ...                     0               0                 0   \n 3           0  ...                     0               0                 0   \n 4           0  ...                     0               0                 0   \n ...       ...  ...                   ...             ...               ...   \n 834513     11  ...                    27              20                 7   \n 834514     11  ...                     3               3                 0   \n 834515      4  ...                     0               0                 0   \n 834516      2  ...                    47              40                 7   \n 834517      7  ...                     5               4                 1   \n \n         totcctimedealt  champlvl  pinksbought  wardsbought  wardsplaced  \\\n 0                   50        12            0            0            6   \n 1                  114         3            0            0            0   \n 2                    0         1            0            0            0   \n 3                    0         2            0            0            0   \n 4                    0         3            0            0            0   \n ...                ...       ...          ...          ...          ...   \n 834513             127        18            3           \\N           13   \n 834514             128        18            0           \\N           13   \n 834515             304        17            0           \\N            5   \n 834516             101        15            0           \\N            8   \n 834517             654        18            0           \\N           12   \n \n         wardskilled  firstblood  \n 0                 0           0  \n 1                 0           0  \n 2                 0           0  \n 3                 0           0  \n 4                 0           0  \n ...             ...         ...  \n 834513            1           0  \n 834514            0           0  \n 834515            0           0  \n 834516            1           0  \n 834517            1           0  \n \n [834518 rows x 56 columns],\n          matchid  teamid  championid  banturn\n 0             10     100          11        1\n 1             10     100         117        3\n 2             10     100         120        5\n 3             10     200          84        2\n 4             10     200         201        4\n ...          ...     ...         ...      ...\n 1099180   187588     100          55        3\n 1099181   187588     100         106        5\n 1099182   187588     200          41        2\n 1099183   187588     200          82        4\n 1099184   187588     200          45        6\n \n [1099185 rows x 4 columns],\n         matchid  teamid  firstblood  firsttower  firstinhib  firstbaron  \\\n 0            10     100           0           1           0           0   \n 1            10     200           1           0           1           1   \n 2            11     100           1           0           0           0   \n 3            11     200           0           1           1           0   \n 4            12     100           1           0           0           0   \n ...         ...     ...         ...         ...         ...         ...   \n 368133   187586     200           0           0           0           0   \n 368134   187587     100           1           0           1           1   \n 368135   187587     200           0           1           0           0   \n 368136   187588     100           1           0           1           1   \n 368137   187588     200           0           1           0           0   \n \n         firstdragon  firstharry  towerkills  inhibkills  baronkills  \\\n 0                 0           0           5           0           0   \n 1                 1           1          10           3           1   \n 2                 0           0           2           0           0   \n 3                 1           0          10           3           0   \n 4                 0           0           1           0           0   \n ...             ...         ...         ...         ...         ...   \n 368133            0           0           1           0           0   \n 368134            0           0          10           1           1   \n 368135            1           0           3           0           1   \n 368136            0           0          11           3           2   \n 368137            1           0           4           0           0   \n \n         dragonkills  harrykills  \n 0                 0           0  \n 1                 3           1  \n 2                 0           0  \n 3                 2           0  \n 4                 0           0  \n ...             ...         ...  \n 368133            0           0  \n 368134            2           0  \n 368135            3           0  \n 368136            3           0  \n 368137            1           0  \n \n [368138 rows x 13 columns]]"
     },
     "metadata": {},
     "execution_count": 14
    }
   ],
   "source": []
  },
  {
   "cell_type": "code",
   "execution_count": 5,
   "metadata": {},
   "outputs": [
    {
     "output_type": "execute_result",
     "data": {
      "text/plain": "(['champs.csv',\n  'matches.csv',\n  'participants.csv',\n  'stats1.csv',\n  'stats2.csv',\n  'teambans.csv',\n  'teamstats.csv'],\n ['bans.csv',\n  'gold.csv',\n  'kills.csv',\n  'LeagueofLegends.csv',\n  'matchinfo.csv',\n  'monsters.csv',\n  'structures.csv',\n  '_columns.csv'])"
     },
     "metadata": {},
     "execution_count": 5
    }
   ],
   "source": [
    "ranked, competitive"
   ]
  },
  {
   "cell_type": "code",
   "execution_count": null,
   "metadata": {},
   "outputs": [],
   "source": []
  }
 ],
 "metadata": {
  "language_info": {
   "codemirror_mode": {
    "name": "ipython",
    "version": 3
   },
   "file_extension": ".py",
   "mimetype": "text/x-python",
   "name": "python",
   "nbconvert_exporter": "python",
   "pygments_lexer": "ipython3",
   "version": "3.8.2-final"
  },
  "orig_nbformat": 2,
  "kernelspec": {
   "name": "python38264bitdfd2b58598fd476ca9f4a2a34bfd7795",
   "display_name": "Python 3.8.2 64-bit"
  }
 },
 "nbformat": 4,
 "nbformat_minor": 2
}