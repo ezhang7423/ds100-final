{
 "cells": [
  {
   "cell_type": "code",
   "execution_count": 3,
   "metadata": {},
   "outputs": [],
   "source": [
    "import pandas as pd\n",
    "import glob\n",
    "\n",
    "\n",
    "def importAll(path):    \n",
    "    all_files = glob.glob(path + \"/*.csv\")\n",
    "    res = {}\n",
    "\n",
    "    for filename in all_files:\n",
    "        print('Importing:', filename)\n",
    "        df = pd.read_csv(filename, index_col=None, header=0)\n",
    "        res[filename] = df\n",
    "    return res"
   ]
  },
  {
   "cell_type": "code",
   "execution_count": 4,
   "metadata": {},
   "outputs": [
    {
     "output_type": "stream",
     "name": "stdout",
     "text": "Importing: 3173/champs.csv\nImporting: 3173/matches.csv\nImporting: 3173/participants.csv\nImporting: 3173/stats1.csv\nImporting: 3173/stats2.csv\nImporting: 3173/teambans.csv\nImporting: 3173/teamstats.csv\nImporting: 1076/bans.csv\nImporting: 1076/gold.csv\nImporting: 1076/kills.csv\nImporting: 1076/LeagueofLegends.csv\nImporting: 1076/matchinfo.csv\nImporting: 1076/monsters.csv\nImporting: 1076/structures.csv\nImporting: 1076/_columns.csv\n"
    }
   ],
   "source": [
    "#ranked dataset:\n",
    "ranked = importAll('3173')\n",
    "#competitive dataset:\n",
    "competitive = importAll('1076')"
   ]
  },
  {
   "cell_type": "code",
   "execution_count": 9,
   "metadata": {},
   "outputs": [
    {
     "output_type": "execute_result",
     "data": {
      "text/plain": "(dict_keys(['3173/champs.csv', '3173/matches.csv', '3173/participants.csv', '3173/stats1.csv', '3173/stats2.csv', '3173/teambans.csv', '3173/teamstats.csv']),\n dict_keys(['1076/bans.csv', '1076/gold.csv', '1076/kills.csv', '1076/LeagueofLegends.csv', '1076/matchinfo.csv', '1076/monsters.csv', '1076/structures.csv', '1076/_columns.csv']))"
     },
     "metadata": {},
     "execution_count": 9
    }
   ],
   "source": [
    "ranked_datasets  = ranked.keys()\n",
    "competitive_datasets = competitive.keys()\n",
    "ranked_datasets, competitive_datasets"
   ]
  },
  {
   "cell_type": "code",
   "execution_count": 7,
   "metadata": {},
   "outputs": [
    {
     "output_type": "execute_result",
     "data": {
      "text/plain": "dict_keys(['3173/champs.csv', '3173/matches.csv', '3173/participants.csv', '3173/stats1.csv', '3173/stats2.csv', '3173/teambans.csv', '3173/teamstats.csv'])"
     },
     "metadata": {},
     "execution_count": 7
    }
   ],
   "source": []
  },
  {
   "cell_type": "code",
   "execution_count": null,
   "metadata": {},
   "outputs": [],
   "source": []
  }
 ],
 "metadata": {
  "language_info": {
   "codemirror_mode": {
    "name": "ipython",
    "version": 3
   },
   "file_extension": ".py",
   "mimetype": "text/x-python",
   "name": "python",
   "nbconvert_exporter": "python",
   "pygments_lexer": "ipython3",
   "version": "3.7.7-final"
  },
  "orig_nbformat": 2,
  "kernelspec": {
   "name": "python37764bitkerascondabea2eaa7b1e34e4c92054d6a37368ad1",
   "display_name": "Python 3.7.7 64-bit ('keras': conda)"
  }
 },
 "nbformat": 4,
 "nbformat_minor": 2
}